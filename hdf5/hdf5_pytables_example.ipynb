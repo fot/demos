{
 "cells": [
  {
   "cell_type": "markdown",
   "metadata": {},
   "source": [
    "#Example Generation and Access of an HDF5 File Using Pytables\n",
    "\n",
    "Matthew Dahmer  \n",
    "Chandra X-Ray Observatory  \n",
    "Lead Thermal Subsystem Engineer  \n",
    "\n",
    "\n",
    "This is intended to be a gentle introduction on how to generate and access hdf5 files using the pytables library. The codebase used by the Ska Engineering Archive, developed primarily by Tom Aldcroft and Jean Connelly, is naturally far more complex since it handles the generation and maintenance of the database, as well as a myriad of access methods, however I hope the examples below will serve as a starting point to understanding how the Ska Engineering Archive works."
   ]
  },
  {
   "cell_type": "markdown",
   "metadata": {},
   "source": [
    "----------"
   ]
  },
  {
   "cell_type": "markdown",
   "metadata": {},
   "source": [
    "##Generate Data"
   ]
  },
  {
   "cell_type": "markdown",
   "metadata": {},
   "source": [
    "Here we generate some realistic looking data to demonstrate a likely use case for this library.\n",
    "\n",
    "We will create three datasets:\n",
    "* times: floating point values from 1 to 1000 (unitless in this case)\n",
    "* temps: Realistic looking data\n",
    "* qual: Boolean array indicating whether or not the corresponding data is valid\n",
    "\n",
    "I had some fun with the data generation below. A much simpler random distribution would have worked just as well for this demonstration, however this would not have looked realistic!"
   ]
  },
  {
   "cell_type": "code",
   "execution_count": 1,
   "metadata": {
    "collapsed": false
   },
   "outputs": [],
   "source": [
    "import numpy as np\n",
    "import matplotlib.pyplot as plt\n",
    "\n",
    "# This is required to show matplotlib plots within the notebook.\n",
    "%matplotlib inline"
   ]
  },
  {
   "cell_type": "code",
   "execution_count": 2,
   "metadata": {
    "collapsed": false
   },
   "outputs": [
    {
     "data": {
      "text/plain": [
       "[<matplotlib.lines.Line2D at 0x1063ad8d0>]"
      ]
     },
     "execution_count": 2,
     "metadata": {},
     "output_type": "execute_result"
    },
    {
     "data": {
      "image/png": "[encoded data removed]",
      "text/plain": [
       "<matplotlib.figure.Figure at 0x106030550>"
      ]
     },
     "metadata": {},
     "output_type": "display_data"
    }
   ],
   "source": [
    "numpoints = 1e5\n",
    "times = np.linspace(0, 1000, numpoints)\n",
    "temps = 10*(1-1/np.exp(np.linspace(0, 3, numpoints))) + 1 * np.sin(2 * np.pi * times / 200)\n",
    "\n",
    "# Add noise (a simple uniform distribution didn't look \"real\" enough).\n",
    "for num in range(20, 50, 5):\n",
    "    i = np.random.randint(num, size=numpoints) == 1\n",
    "    temps[i] = temps[i] + (np.random.random(sum(i)) - 0.5) * num / 20\n",
    "\n",
    "qual = np.random.randint(-30, 100, size=numpoints) > 0\n",
    "    \n",
    "plt.plot(times[qual],temps[qual])"
   ]
  },
  {
   "cell_type": "markdown",
   "metadata": {},
   "source": [
    "Note the datatypes used."
   ]
  },
  {
   "cell_type": "code",
   "execution_count": 3,
   "metadata": {
    "collapsed": false
   },
   "outputs": [
    {
     "data": {
      "text/plain": [
       "(dtype('float64'), dtype('float64'), dtype('bool'))"
      ]
     },
     "execution_count": 3,
     "metadata": {},
     "output_type": "execute_result"
    }
   ],
   "source": [
    "times.dtype, temps.dtype, qual.dtype"
   ]
  },
  {
   "cell_type": "markdown",
   "metadata": {},
   "source": [
    "This is the uncompressed size of the data we will save to the hdf5 file, compare this value to actual compressed file size produced in the next section. Additionally, try increasing the size of the numpoints variable above to see how python handles larger datasets (values larger than 1e7, the maximum value I tested, may cause stability issues depending on available video memory since the full dataset is plotted)."
   ]
  },
  {
   "cell_type": "code",
   "execution_count": 4,
   "metadata": {
    "collapsed": false
   },
   "outputs": [
    {
     "data": {
      "text/plain": [
       "1.6125"
      ]
     },
     "execution_count": 4,
     "metadata": {},
     "output_type": "execute_result"
    }
   ],
   "source": [
    "(64+64+1)*numpoints/8e6 # 1e6 bytes per megabyte * 8 bits per byte"
   ]
  },
  {
   "cell_type": "markdown",
   "metadata": {},
   "source": [
    "----"
   ]
  },
  {
   "cell_type": "markdown",
   "metadata": {},
   "source": [
    "## Use the pytables library to create an hdf5 file.\n",
    "This is the library used by the Ska Engineering Archive\n",
    "\n",
    "Documentation can be found on the pytables website: http://www.pytables.org/index.html"
   ]
  },
  {
   "cell_type": "code",
   "execution_count": 5,
   "metadata": {
    "collapsed": true
   },
   "outputs": [],
   "source": [
    "import tables\n",
    "import os"
   ]
  },
  {
   "cell_type": "markdown",
   "metadata": {},
   "source": [
    "Define the filename, and the compression parameters."
   ]
  },
  {
   "cell_type": "code",
   "execution_count": 6,
   "metadata": {
    "collapsed": true
   },
   "outputs": [],
   "source": [
    "filename = 'hdf5_example_file_pytables_lib.h5'\n",
    "filters = tables.Filters(complevel=5, complib='zlib')"
   ]
  },
  {
   "cell_type": "markdown",
   "metadata": {},
   "source": [
    "Delete the filename if it exists."
   ]
  },
  {
   "cell_type": "code",
   "execution_count": 7,
   "metadata": {
    "collapsed": true
   },
   "outputs": [],
   "source": [
    "if os.path.exists(filename):\n",
    "        os.unlink(filename)"
   ]
  },
  {
   "cell_type": "markdown",
   "metadata": {},
   "source": [
    "Create the hdf5 file in write mode."
   ]
  },
  {
   "cell_type": "code",
   "execution_count": 8,
   "metadata": {
    "collapsed": false
   },
   "outputs": [],
   "source": [
    "h5 = tables.openFile(filename, mode='w', filters=filters)"
   ]
  },
  {
   "cell_type": "markdown",
   "metadata": {},
   "source": [
    "Define the datatype to be stored. It is also printed to output for inspection.\n",
    "\n",
    "Note that the Ska engineering archive data uses 32 bit floats to store data to save disk and memory space, however all arithmetic should be done using 64 bit float datatypes to avoid excessive precision errors (e.g. compute the mean or standard deviation of a very large array of float32 vs float64). Below I use 64 bit floats from the start since we aren't as worried about disk space with this example."
   ]
  },
  {
   "cell_type": "code",
   "execution_count": 9,
   "metadata": {
    "collapsed": false
   },
   "outputs": [
    {
     "data": {
      "text/plain": [
       "Float64Atom(shape=(), dflt=0.0)"
      ]
     },
     "execution_count": 9,
     "metadata": {},
     "output_type": "execute_result"
    }
   ],
   "source": [
    "h5type = tables.Atom.from_dtype(temps.dtype)\n",
    "h5type"
   ]
  },
  {
   "cell_type": "markdown",
   "metadata": {},
   "source": [
    "Create the individual tables to store time, temperatures, and quality information. \n",
    "\n",
    "In the Ska Engineering Archive time is stored in a separate file to save space, however it is included in the same file here to simplify this example.\n",
    "\n",
    "The shape must have one \"0\" dimension, in the case of the Ska engineering archive, the first dimension is set to zero. Further documentation for the EArray class can be found here:\n",
    "http://www.pytables.org/usersguide/libref/homogenous_storage.html#the-earray-class"
   ]
  },
  {
   "cell_type": "code",
   "execution_count": 10,
   "metadata": {
    "collapsed": false
   },
   "outputs": [],
   "source": [
    "timearray = h5.createEArray(h5.root, 'times', h5type, (0,), title='times')\n",
    "temparray = h5.createEArray(h5.root, 'temps', h5type, (0,), title='temps')\n",
    "qualarray = h5.createEArray(h5.root, 'qual', tables.BoolAtom(), (0,), title='qual')"
   ]
  },
  {
   "cell_type": "markdown",
   "metadata": {},
   "source": [
    "View the time array information."
   ]
  },
  {
   "cell_type": "code",
   "execution_count": 11,
   "metadata": {
    "collapsed": false
   },
   "outputs": [
    {
     "data": {
      "text/plain": [
       "/times (EArray(0,), shuffle, zlib(5)) 'times'\n",
       "  atom := Float64Atom(shape=(), dflt=0.0)\n",
       "  maindim := 0\n",
       "  flavor := 'numpy'\n",
       "  byteorder := 'little'\n",
       "  chunkshape := (8192,)"
      ]
     },
     "execution_count": 11,
     "metadata": {},
     "output_type": "execute_result"
    }
   ],
   "source": [
    "timearray"
   ]
  },
  {
   "cell_type": "markdown",
   "metadata": {},
   "source": [
    "Save the data to the appropriate tables."
   ]
  },
  {
   "cell_type": "code",
   "execution_count": 12,
   "metadata": {
    "collapsed": false
   },
   "outputs": [],
   "source": [
    "timearray.append(times)\n",
    "temparray.append(temps)\n",
    "qualarray.append(qual)"
   ]
  },
  {
   "cell_type": "markdown",
   "metadata": {},
   "source": [
    "Ensure the data saved to the three tables are written to the file."
   ]
  },
  {
   "cell_type": "code",
   "execution_count": 13,
   "metadata": {
    "collapsed": true
   },
   "outputs": [],
   "source": [
    "h5.flush()"
   ]
  },
  {
   "cell_type": "markdown",
   "metadata": {},
   "source": [
    "Close the file"
   ]
  },
  {
   "cell_type": "code",
   "execution_count": 14,
   "metadata": {
    "collapsed": true
   },
   "outputs": [],
   "source": [
    "h5.close()"
   ]
  },
  {
   "cell_type": "markdown",
   "metadata": {
    "collapsed": true
   },
   "source": [
    "-----"
   ]
  },
  {
   "cell_type": "markdown",
   "metadata": {},
   "source": [
    "## Use the pytables library to access data stored in an hdf5 file.\n"
   ]
  },
  {
   "cell_type": "markdown",
   "metadata": {},
   "source": [
    "Open the hdf5 file created above in read mode and inspect its contents."
   ]
  },
  {
   "cell_type": "code",
   "execution_count": 15,
   "metadata": {
    "collapsed": false
   },
   "outputs": [
    {
     "data": {
      "text/plain": [
       "File(filename=hdf5_example_file_pytables_lib.h5, title='', mode='r', root_uep='/', filters=Filters(complevel=5, complib='zlib', shuffle=True, fletcher32=False, least_significant_digit=None))\n",
       "/ (RootGroup) ''\n",
       "/qual (EArray(100000,), shuffle, zlib(5)) 'qual'\n",
       "  atom := BoolAtom(shape=(), dflt=False)\n",
       "  maindim := 0\n",
       "  flavor := 'numpy'\n",
       "  byteorder := 'irrelevant'\n",
       "  chunkshape := (65536,)\n",
       "/temps (EArray(100000,), shuffle, zlib(5)) 'temps'\n",
       "  atom := Float64Atom(shape=(), dflt=0.0)\n",
       "  maindim := 0\n",
       "  flavor := 'numpy'\n",
       "  byteorder := 'little'\n",
       "  chunkshape := (8192,)\n",
       "/times (EArray(100000,), shuffle, zlib(5)) 'times'\n",
       "  atom := Float64Atom(shape=(), dflt=0.0)\n",
       "  maindim := 0\n",
       "  flavor := 'numpy'\n",
       "  byteorder := 'little'\n",
       "  chunkshape := (8192,)"
      ]
     },
     "execution_count": 15,
     "metadata": {},
     "output_type": "execute_result"
    }
   ],
   "source": [
    "h5 = tables.openFile(filename, mode='r')\n",
    "h5"
   ]
  },
  {
   "cell_type": "markdown",
   "metadata": {},
   "source": [
    "Set the \"table\" variable to point to the data stored in the \"temps\" table in the hdf5 file. You don't need to create separate objects like this to access the underlying data (as shown below when generating the plot), however it can improve readability in a more complex code base."
   ]
  },
  {
   "cell_type": "code",
   "execution_count": 16,
   "metadata": {
    "collapsed": false
   },
   "outputs": [],
   "source": [
    "table = h5.root.temps"
   ]
  },
  {
   "cell_type": "markdown",
   "metadata": {},
   "source": [
    "View the first ten elements in the table array."
   ]
  },
  {
   "cell_type": "code",
   "execution_count": 17,
   "metadata": {
    "collapsed": false
   },
   "outputs": [
    {
     "data": {
      "text/plain": [
       "array([ 0.        ,  0.00061416,  0.00122831,  0.09362904,  0.00245659,\n",
       "        0.34355375,  0.00368483,  0.00429894,  0.00491303,  0.00552712])"
      ]
     },
     "execution_count": 17,
     "metadata": {},
     "output_type": "execute_result"
    }
   ],
   "source": [
    "table[:10]"
   ]
  },
  {
   "cell_type": "markdown",
   "metadata": {},
   "source": [
    "Plot the data and compare to the original plot above."
   ]
  },
  {
   "cell_type": "code",
   "execution_count": 18,
   "metadata": {
    "collapsed": false
   },
   "outputs": [
    {
     "data": {
      "text/plain": [
       "[<matplotlib.lines.Line2D at 0x107d20ed0>]"
      ]
     },
     "execution_count": 18,
     "metadata": {},
     "output_type": "execute_result"
    },
    {
     "data": {
      "image/png": "[encoded data removed]",
      "text/plain": [
       "<matplotlib.figure.Figure at 0x107a7a2d0>"
      ]
     },
     "metadata": {},
     "output_type": "display_data"
    }
   ],
   "source": [
    "plt.plot(h5.root.times, h5.root.temps)"
   ]
  },
  {
   "cell_type": "markdown",
   "metadata": {},
   "source": [
    "Close the hdf5 file."
   ]
  },
  {
   "cell_type": "code",
   "execution_count": 19,
   "metadata": {
    "collapsed": true
   },
   "outputs": [],
   "source": [
    "h5.close()"
   ]
  },
  {
   "cell_type": "markdown",
   "metadata": {},
   "source": [
    "Try accessing the table pointing to the \"temps\" array. You should find that this data is no longer accessible with the file closed."
   ]
  },
  {
   "cell_type": "code",
   "execution_count": 20,
   "metadata": {
    "collapsed": false
   },
   "outputs": [
    {
     "data": {
      "text/plain": [
       "<closed tables.earray.EArray at 0x107978ea8>"
      ]
     },
     "execution_count": 20,
     "metadata": {},
     "output_type": "execute_result"
    }
   ],
   "source": [
    "table"
   ]
  }
 ],
 "metadata": {
  "kernelspec": {
   "display_name": "Python 2",
   "language": "python",
   "name": "python2"
  },
  "language_info": {
   "codemirror_mode": {
    "name": "ipython",
    "version": 2
   },
   "file_extension": ".py",
   "mimetype": "text/x-python",
   "name": "python",
   "nbconvert_exporter": "python",
   "pygments_lexer": "ipython2",
   "version": "2.7.10"
  }
 },
 "nbformat": 4,
 "nbformat_minor": 0
}
