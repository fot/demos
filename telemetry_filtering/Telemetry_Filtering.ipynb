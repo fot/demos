{
 "cells": [
  {
   "cell_type": "markdown",
   "metadata": {},
   "source": [
    "# Telemetry Filtering Example"
   ]
  },
  {
   "cell_type": "code",
   "execution_count": 20,
   "metadata": {
    "collapsed": false
   },
   "outputs": [],
   "source": [
    "import numpy as np\n",
    "\n",
    "from Chandra.Time import DateTime\n",
    "import Ska.engarchive.fetch_eng as fetch\n",
    "from Ska.Matplotlib import plot_cxctime\n",
    "\n",
    "%matplotlib inline"
   ]
  },
  {
   "cell_type": "markdown",
   "metadata": {},
   "source": [
    "The following code is pulled from the \"fot_trend\" package located here: github.com/fot/fot_trend. I wrote these functions to be able to calculate stats from data that might be missing values in some of the \"bins\", in this case these bins are 24 hours.\n",
    "\n",
    "I am including it here (slightly modified) so you don't have to worry about keeping a local copy of this package."
   ]
  },
  {
   "cell_type": "code",
   "execution_count": 2,
   "metadata": {
    "collapsed": true
   },
   "outputs": [],
   "source": [
    "def calc_daily_stats(t, dmin, dmean, dmax):\n",
    "    \"\"\" Calculate daily stats\n",
    "    :param t: Time numpy array\n",
    "    :param dmin: Minimum statistical data in a numpy array\n",
    "    :param dmean: Mean statistical data in a numpy array\n",
    "    :param dmax: Maximum statistical data in a numpy array\n",
    "    Note: dmin, dmean, and dmax are meant to include the 5min statistical data from the ska\n",
    "    archive. \n",
    "    This method can use raw values instead of statistical values if the same raw values are passed\n",
    "    for each the dmin, dmean, and dmax positional arguments.\n",
    "    \"\"\"\n",
    "\n",
    "    daystart = DateTime(DateTime(t[0]).date[:8] + ':00:00:00.000').secs\n",
    "    daystop = DateTime(DateTime(t[-1]).date[:8] + ':00:00:00.000').secs\n",
    "\n",
    "    daysecs = 3600.* 24.\n",
    "    days = np.arange(daystart, daystop + daysecs, daysecs)\n",
    "    ind = digitizebins(t, days)\n",
    "\n",
    "    daymins = np.array([np.nanmin(dmin[i[0]:(i[-1]+1)]) if i[-1] - i[0] > 0 else np.nan for i in ind])\n",
    "    daymeans = np.array([np.nanmean(dmean[i[0]:(i[-1]+1)]) if i[-1] - i[0] > 0 else np.nan for i in ind])\n",
    "    daymaxes = np.array([np.nanmax(dmax[i[0]:(i[-1]+1)]) if i[-1] - i[0] > 0 else np.nan for i in ind])\n",
    "    \n",
    "    # If there is a partial day of data at the end of the input data array(s), then there may be one less\n",
    "    # day of data than the number of days in the `days` array.\n",
    "    if len(days) > len(daymins):\n",
    "        days = days[:-1]\n",
    "\n",
    "    return days, daymins, daymeans, daymaxes\n",
    "\n",
    "\n",
    "def digitizebins(data, bins):\n",
    "    \"\"\" Calculate indices to binned data\n",
    "    :param data: 1d data array to be divided up into bins\n",
    "    :param bins: 1d array of bin boundaries\n",
    "    :returns: array of start and stop indices\n",
    "    Note: at this point, data needs to be sequential. I intend on generalizing this function for\n",
    "    non sequential data, however that will come as an enhancement in the future.\n",
    "    \"\"\"\n",
    "    databins = np.digitize(data, bins=bins)\n",
    "    b = np.bincount(databins - 1)\n",
    "    c = np.hstack((0, np.cumsum(b)))\n",
    "    return np.array([(k1, k2-1) for k1, k2 in zip(c[:-1], c[1:])])\n",
    "\n",
    "def astropy_daily_stats(times, vals):\n",
    "    \"\"\" Calculate daily stats using Astropy tables\n",
    "    \n",
    "    :param times: Time numpy array\n",
    "    :param vals: Telemetry numpy array\n",
    "    \n",
    "    This is an alternate method of calculating daily stats using Astropy. This can be useful if one\n",
    "    wants to take advantage of Astropy's data wrangling methods for further processing.\n",
    "    \n",
    "    I used the documentation at this URL to generate the code for this example:\n",
    "    http://astropy.readthedocs.io/en/latest/table/operations.html#binning\n",
    "    \"\"\"\n",
    "\n",
    "    tbin = np.trunc(times / (3600*24.))\n",
    "\n",
    "    dvals = Table([times, vals,], names=['date', 'value'])\n",
    "    dgrouped = dvals.group_by(tbin)\n",
    "    \n",
    "    dbinmean = dgrouped.groups.aggregate(np.mean)\n",
    "    # dbinmean.add_column(Table.Column(data = DateTime(dbinmean['date']).date, name='datechar'))\n",
    "    \n",
    "    dbinmin = dgrouped.groups.aggregate(np.min)\n",
    "    # dbinmin.add_column(Table.Column(data = DateTime(dbinmin['date']).date, name='datechar'))\n",
    "\n",
    "    dbinmax = dgrouped.groups.aggregate(np.max)\n",
    "    # dbinmax.add_column(Table.Column(data = DateTime(dbinmax['date']).date, name='datechar'))\n",
    "\n",
    "    return dbinmin, dbinmean, dbinmax"
   ]
  },
  {
   "cell_type": "markdown",
   "metadata": {},
   "source": [
    "First, fetch the data. You'll want to use the `Msidset` method so all values can be interpolated on the same scale."
   ]
  },
  {
   "cell_type": "code",
   "execution_count": 10,
   "metadata": {
    "collapsed": false
   },
   "outputs": [],
   "source": [
    "vmsids = ['4MP5AV', '4MP28AV', '4MP5BV', '4MP28BV']\n",
    "smsids = ['4M5IRAX', '4M28IRAX', '4M5IRBX', '4M28IRBX']\n",
    "data = fetch.Msidset(vmsids + smsids, '2016:001', '2016:180:02:00:00', stat=None)"
   ]
  },
  {
   "cell_type": "markdown",
   "metadata": {},
   "source": [
    "Next find the minimum sampling rate and interpolate all data to this sampling rate. This can take a little while and may take up a relatively large amount of memory. If you find memory becomes a problem, you can pull the msids of interest along with their status msids separately. I suggest doing this if you are pulling data for the whole mission at once.\n",
    "\n",
    "In this case I commented out an automatic method for determining the sampling rate as, in this case, we know that all these MSIDs use the same sampling rate, and use the same Ska telemetry content type (i.e. the underlying HDF5 files are stored in the same directory and use the same time array). Because all these MSIDs are of the same content type and no interpolation is required, this is much less memory intensive."
   ]
  },
  {
   "cell_type": "code",
   "execution_count": 11,
   "metadata": {
    "collapsed": false
   },
   "outputs": [],
   "source": [
    "# dt = 32.8\n",
    "# for msid in vmsids + smsids:\n",
    "#     dt = np.min((np.min(np.diff(data[msid].times)), dt))\n",
    "# data.interpolate(dt)\n",
    "\n",
    "data.times = data[vmsids[0]].times"
   ]
  },
  {
   "cell_type": "markdown",
   "metadata": {},
   "source": [
    "Next I am checking to see what the state codes are for the indicator msids."
   ]
  },
  {
   "cell_type": "code",
   "execution_count": 12,
   "metadata": {
    "collapsed": false
   },
   "outputs": [
    {
     "data": {
      "text/plain": [
       "[(0, 'DISA'), (1, 'ENAB')]"
      ]
     },
     "execution_count": 12,
     "metadata": {},
     "output_type": "execute_result"
    }
   ],
   "source": [
    "data[smsids[0]].state_codes"
   ]
  },
  {
   "cell_type": "markdown",
   "metadata": {},
   "source": [
    "Next I filter for only the voltage telemetry where the status msid shows \"ENAB\". I do this for the first msids \"4MP5AV\" + \"4M5IRAX\". You can repeat this for the other msid pairs as needed."
   ]
  },
  {
   "cell_type": "code",
   "execution_count": 13,
   "metadata": {
    "collapsed": true
   },
   "outputs": [],
   "source": [
    "keep = data[smsids[0]].vals == 'ENAB'\n",
    "vals = data[vmsids[0]].vals[keep]\n",
    "times = data.times[keep]"
   ]
  },
  {
   "cell_type": "markdown",
   "metadata": {},
   "source": [
    "Below I use a function I wrote to calculate the daily statistics. This function was originally written to use the \"5min\" data which includes separate arrays for min, mean, and max values. I can optionally pass in the full resolution data for each of these values; this is why you see the \"vals\" array input three times. \n",
    "\n",
    "This function can not account for different sampling rates, but because we already interpolated all values into a uniform sampling rate, we don't need to worry about accounting for that.\n",
    "\n",
    "This function calculates the mean statistics over supplied data, so if there are only two values for that day passed to this function, the mean for that day will be the mean of those to values and won't be skewed by invalid/missing datapoints.\n",
    "\n",
    "All missing data uses the NaN value, so any full days without any supplied data will report NaNs for the statistical values for that day. This generally plays nicely with numpy and matplotlib methods."
   ]
  },
  {
   "cell_type": "code",
   "execution_count": 14,
   "metadata": {
    "collapsed": false
   },
   "outputs": [],
   "source": [
    "times, daymins, daymeans, daymaxes = calc_daily_stats(times, vals, vals, vals)"
   ]
  },
  {
   "cell_type": "markdown",
   "metadata": {},
   "source": [
    "Statistical values for each day are time tagged with the time at the beginning of that day.\n",
    "\n",
    "You'll notice that the last date in the returned data is the last full day in the fetched dataset. "
   ]
  },
  {
   "cell_type": "code",
   "execution_count": 15,
   "metadata": {
    "collapsed": false
   },
   "outputs": [
    {
     "data": {
      "text/plain": [
       "'2016:180:00:00:00.000'"
      ]
     },
     "execution_count": 15,
     "metadata": {},
     "output_type": "execute_result"
    }
   ],
   "source": [
    "DateTime(times[-1]).date"
   ]
  },
  {
   "cell_type": "markdown",
   "metadata": {},
   "source": [
    "Here I use the `plot_cxctime` function to plot the data. You'll notice there are gaps in the plotted data, this is where NaN values are inserted to indicate days where no valid data was recorded (i.e. when the box was off)."
   ]
  },
  {
   "cell_type": "code",
   "execution_count": 19,
   "metadata": {
    "collapsed": false
   },
   "outputs": [
    {
     "data": {
      "image/png": "[encoded data removed]",
      "text/plain": [
       "<matplotlib.figure.Figure at 0x10dd107d0>"
      ]
     },
     "metadata": {},
     "output_type": "display_data"
    }
   ],
   "source": [
    "_ = plot_cxctime(times, daymeans, 'go')\n",
    "_ = plot_cxctime(times, daymins, 'bo')\n",
    "_ = plot_cxctime(times, daymaxes, 'ro')"
   ]
  }
 ],
 "metadata": {
  "kernelspec": {
   "display_name": "Python 2",
   "language": "python",
   "name": "python2"
  },
  "language_info": {
   "codemirror_mode": {
    "name": "ipython",
    "version": 2
   },
   "file_extension": ".py",
   "mimetype": "text/x-python",
   "name": "python",
   "nbconvert_exporter": "python",
   "pygments_lexer": "ipython2",
   "version": "2.7.11"
  }
 },
 "nbformat": 4,
 "nbformat_minor": 0
}
