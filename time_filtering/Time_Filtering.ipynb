{
 "cells": [
  {
   "cell_type": "markdown",
   "metadata": {},
   "source": [
    "# Time Filtering Demos"
   ]
  },
  {
   "cell_type": "code",
   "execution_count": 9,
   "metadata": {
    "collapsed": false
   },
   "outputs": [],
   "source": [
    "from matplotlib import pyplot as plt\n",
    "\n",
    "from Ska.engarchive import fetch_eng as fetch\n",
    "from Chandra.Time import DateTime\n",
    "\n",
    "# This is added to allow plots to show up in the notebook\n",
    "%matplotlib inline"
   ]
  },
  {
   "cell_type": "code",
   "execution_count": 2,
   "metadata": {
    "collapsed": true
   },
   "outputs": [],
   "source": [
    "tstart = '2015:018:00:00:00'\n",
    "tstop = '2015:040:00:00:00'"
   ]
  },
  {
   "cell_type": "markdown",
   "metadata": {},
   "source": [
    "I don't think you want to interpolate here (`eb1k5.interpolate()`). If you do it will automatically use a time sampling period of 32.8 seconds. This is useful when you have multiple MSIDs in the fetch object (via `fetch.MSIDSet`), but for a single MSID it is often best to stick to the original timeseries data."
   ]
  },
  {
   "cell_type": "code",
   "execution_count": 3,
   "metadata": {
    "collapsed": false
   },
   "outputs": [
    {
     "data": {
      "image/png": "[encoded data removed]",
      "text/plain": [
       "<matplotlib.figure.Figure at 0x109488ed0>"
      ]
     },
     "metadata": {},
     "output_type": "display_data"
    }
   ],
   "source": [
    "eb1k5 = fetch.Msid('eb1k5', tstart, tstop)\n",
    "# eb1k5.interpolate()\n",
    "eb1k5.iplot()"
   ]
  },
  {
   "cell_type": "markdown",
   "metadata": {},
   "source": [
    "Here I use the `logical_intervals()` function built into the fetch object to eliminate the need for an extra library import. Because the object returned from this function is an Astropy Table, we can take advantage of the named column access to make the code a bit more readable to pull out the start and stop times for each K5=ON duration."
   ]
  },
  {
   "cell_type": "code",
   "execution_count": 4,
   "metadata": {
    "collapsed": false
   },
   "outputs": [
    {
     "data": {
      "text/plain": [
       "[('2015:019:14:07:59.020', '2015:019:17:50:45.021'),\n",
       " ('2015:022:05:32:47.033', '2015:022:09:56:16.634'),\n",
       " ('2015:024:21:03:52.246', '2015:025:01:39:07.047'),\n",
       " ('2015:027:12:40:09.058', '2015:027:17:26:03.459'),\n",
       " ('2015:030:04:20:48.271', '2015:030:08:12:35.472'),\n",
       " ('2015:032:20:05:17.084', '2015:032:22:42:10.685')]"
      ]
     },
     "execution_count": 4,
     "metadata": {},
     "output_type": "execute_result"
    }
   ],
   "source": [
    "eclipse_times = eb1k5.logical_intervals('==', 'ON ')\n",
    "eclipse_times = zip(eclipse_times['datestart'], eclipse_times['datestop'])\n",
    "eclipse_times"
   ]
  },
  {
   "cell_type": "markdown",
   "metadata": {},
   "source": [
    "Next round each starting time to the start of the day, and the ending time to the end of the day."
   ]
  },
  {
   "cell_type": "code",
   "execution_count": 5,
   "metadata": {
    "collapsed": true
   },
   "outputs": [],
   "source": [
    "eclipse_times_rounded = []\n",
    "for interval in eclipse_times:\n",
    "    t1secs = DateTime('{}:00:00:00.000'.format(interval[0][:8])).secs -1\n",
    "    t2secs = DateTime('{}:00:00:00.000'.format(interval[1][:8])).secs + 24*3600\n",
    "    eclipse_times_rounded.append((DateTime(t1secs).date, DateTime(t2secs).date))"
   ]
  },
  {
   "cell_type": "code",
   "execution_count": 6,
   "metadata": {
    "collapsed": false
   },
   "outputs": [
    {
     "data": {
      "text/plain": [
       "[('2015:018:23:59:59.000', '2015:020:00:00:00.000'),\n",
       " ('2015:021:23:59:59.000', '2015:023:00:00:00.000'),\n",
       " ('2015:023:23:59:59.000', '2015:026:00:00:00.000'),\n",
       " ('2015:026:23:59:59.000', '2015:028:00:00:00.000'),\n",
       " ('2015:029:23:59:59.000', '2015:031:00:00:00.000'),\n",
       " ('2015:031:23:59:59.000', '2015:033:00:00:00.000')]"
      ]
     },
     "execution_count": 6,
     "metadata": {},
     "output_type": "execute_result"
    }
   ],
   "source": [
    "eclipse_times_rounded"
   ]
  },
  {
   "cell_type": "markdown",
   "metadata": {
    "collapsed": true
   },
   "source": [
    "Fetch EPOWER1 and plot."
   ]
  },
  {
   "cell_type": "code",
   "execution_count": 7,
   "metadata": {
    "collapsed": false
   },
   "outputs": [
    {
     "data": {
      "text/plain": [
       "[<matplotlib.lines.Line2D at 0x10c436f10>]"
      ]
     },
     "execution_count": 7,
     "metadata": {},
     "output_type": "execute_result"
    },
    {
     "data": {
      "image/png": "[encoded data removed]",
      "text/plain": [
       "<matplotlib.figure.Figure at 0x10a6a3d90>"
      ]
     },
     "metadata": {},
     "output_type": "display_data"
    }
   ],
   "source": [
    "epower1 = fetch.Msid('EPOWER1', tstart, tstop, stat='daily')\n",
    "plt.plot(epower1.times, epower1.vals)"
   ]
  },
  {
   "cell_type": "markdown",
   "metadata": {
    "collapsed": true
   },
   "source": [
    "Now use those times to filter out whole days from EPOWER1."
   ]
  },
  {
   "cell_type": "code",
   "execution_count": 8,
   "metadata": {
    "collapsed": false
   },
   "outputs": [
    {
     "data": {
      "text/plain": [
       "[<matplotlib.lines.Line2D at 0x10c85bb10>]"
      ]
     },
     "execution_count": 8,
     "metadata": {},
     "output_type": "execute_result"
    },
    {
     "data": {
      "image/png": "[encoded data removed]",
      "text/plain": [
       "<matplotlib.figure.Figure at 0x10c330810>"
      ]
     },
     "metadata": {},
     "output_type": "display_data"
    }
   ],
   "source": [
    "epower1.remove_intervals(eclipse_times_rounded)\n",
    "plt.plot(epower1.times, epower1.vals)"
   ]
  },
  {
   "cell_type": "code",
   "execution_count": null,
   "metadata": {
    "collapsed": true
   },
   "outputs": [],
   "source": []
  }
 ],
 "metadata": {
  "kernelspec": {
   "display_name": "Python 2",
   "language": "python",
   "name": "python2"
  },
  "language_info": {
   "codemirror_mode": {
    "name": "ipython",
    "version": 2
   },
   "file_extension": ".py",
   "mimetype": "text/x-python",
   "name": "python",
   "nbconvert_exporter": "python",
   "pygments_lexer": "ipython2",
   "version": "2.7.11"
  }
 },
 "nbformat": 4,
 "nbformat_minor": 0
}
