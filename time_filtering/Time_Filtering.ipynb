{
 "cells": [
  {
   "cell_type": "markdown",
   "metadata": {},
   "source": [
    "# Time Filtering Demos"
   ]
  },
  {
   "cell_type": "code",
   "execution_count": null,
   "metadata": {
    "collapsed": false
   },
   "outputs": [],
   "source": [
    "from Ska.engarchive import fetch_eng as fetch\n",
    "from Chandra.Time import DateTime\n",
    "\n",
    "# This is added to allow plots to show up in the notebook\n",
    "%matplotlib notebook"
   ]
  },
  {
   "cell_type": "code",
   "execution_count": null,
   "metadata": {
    "collapsed": true
   },
   "outputs": [],
   "source": [
    "tstart = '2015:018:00:00:00'\n",
    "tstop = '2015:040:00:00:00'"
   ]
  },
  {
   "cell_type": "markdown",
   "metadata": {},
   "source": [
    "I don't think you want to interpolate here (`eb1k5.interpolate()`). If you do it will automatically use a time sampling period of 32.8 seconds. This is useful when you have multiple MSIDs in the fetch object (via `fetch.MSIDSet`), but for a single MSID it is often best to stick to the original timeseries data."
   ]
  },
  {
   "cell_type": "code",
   "execution_count": null,
   "metadata": {
    "collapsed": false
   },
   "outputs": [],
   "source": [
    "eb1k5 = fetch.Msid('eb1k5', tstart, tstop)\n",
    "# eb1k5.interpolate()\n",
    "eb1k5.iplot()"
   ]
  },
  {
   "cell_type": "markdown",
   "metadata": {},
   "source": [
    "Here I use the `logical_intervals()` function built into the fetch object to eliminate the need for an extra library import. Because the object returned from this function is an Astropy Table, we can take advantage of the named column access to make the code a bit more readable to pull out the start and stop times for each K5=ON duration."
   ]
  },
  {
   "cell_type": "code",
   "execution_count": null,
   "metadata": {
    "collapsed": false
   },
   "outputs": [],
   "source": [
    "eclipse_times = eb1k5.logical_intervals('==', 'ON ')\n",
    "eclipse_times = zip(eclipse_times['datestart'], eclipse_times['datestop'])\n",
    "eclipse_times"
   ]
  },
  {
   "cell_type": "markdown",
   "metadata": {},
   "source": [
    "Next round each starting time to the start of the day, and the ending time to the end of the day."
   ]
  },
  {
   "cell_type": "code",
   "execution_count": null,
   "metadata": {
    "collapsed": true
   },
   "outputs": [],
   "source": [
    "eclipse_times_rounded = []\n",
    "for interval in eclipse_times:\n",
    "    t1secs = DateTime('{}:00:00:00.000'.format(interval[0][:8])).secs\n",
    "    t2secs = DateTime('{}:00:00:00.000'.format(interval[1][:8])).secs + 24*3600\n",
    "    eclipse_times_rounded.append((DateTime(t1secs).date, DateTime(t2secs).date))"
   ]
  },
  {
   "cell_type": "code",
   "execution_count": null,
   "metadata": {
    "collapsed": false
   },
   "outputs": [],
   "source": [
    "eclipse_times_rounded"
   ]
  },
  {
   "cell_type": "markdown",
   "metadata": {
    "collapsed": true
   },
   "source": [
    "Fetch EPOWER1 and plot."
   ]
  },
  {
   "cell_type": "code",
   "execution_count": null,
   "metadata": {
    "collapsed": false
   },
   "outputs": [],
   "source": [
    "epower1 = fetch.Msid('EPOWER1', tstart, tstop, stat='daily')\n",
    "epower1.iplot()"
   ]
  },
  {
   "cell_type": "markdown",
   "metadata": {
    "collapsed": true
   },
   "source": [
    "Now use those times to filter out whole days from EPOWER1."
   ]
  },
  {
   "cell_type": "code",
   "execution_count": null,
   "metadata": {
    "collapsed": false
   },
   "outputs": [],
   "source": [
    "epower1.remove_intervals(eclipse_times_rounded)\n",
    "epower1.iplot()"
   ]
  }
 ],
 "metadata": {
  "kernelspec": {
   "display_name": "Python 2",
   "language": "python",
   "name": "python2"
  },
  "language_info": {
   "codemirror_mode": {
    "name": "ipython",
    "version": 2
   },
   "file_extension": ".py",
   "mimetype": "text/x-python",
   "name": "python",
   "nbconvert_exporter": "python",
   "pygments_lexer": "ipython2",
   "version": "2.7.11"
  }
 },
 "nbformat": 4,
 "nbformat_minor": 0
}
